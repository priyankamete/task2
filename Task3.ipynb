{
 "cells": [
  {
   "cell_type": "code",
   "execution_count": null,
   "id": "37589e4b-e54d-446c-a3fb-6c19928db2ca",
   "metadata": {},
   "outputs": [],
   "source": [
    "# used define function"
   ]
  },
  {
   "cell_type": "code",
   "execution_count": null,
   "id": "1fa1053d-b44f-449a-b610-b38810a67e6d",
   "metadata": {},
   "outputs": [],
   "source": [
    "#1).write a python function to find the maximum of given\n",
    "n=int(input(\"enter the number of elements:\"))\n",
    "l1=list()\n",
    "for i in range(n):\n",
    "    ele=int(input(\"enter the number:\"))\n",
    "    l1.append(ele)\n",
    "\n",
    "Max=max(l1)\n",
    "print(\"Maximum element is:\",Max)"
   ]
  },
  {
   "cell_type": "code",
   "execution_count": 13,
   "id": "703bd54d-8671-4092-9f25-cd06eb9d6d9a",
   "metadata": {},
   "outputs": [
    {
     "name": "stdout",
     "output_type": "stream",
     "text": [
      "Sum of list is: 8\n",
      "Sum of list is: 10\n",
      "Sum of list is: 13\n",
      "Sum of list is: 13\n",
      "Sum of list is: 20\n"
     ]
    }
   ],
   "source": [
    "#2).write a python function to sum all the numbers in list. list=[8,2,3,0,7]\n",
    "list=[8,2,3,0,7]\n",
    "sum=0\n",
    "for i in list:\n",
    "    sum=sum+i\n",
    "    print(\"Sum of list is:\",sum)"
   ]
  },
  {
   "cell_type": "code",
   "execution_count": 5,
   "id": "a4b341f8-0cf4-43e8-8d7b-0365b9c90cbf",
   "metadata": {},
   "outputs": [
    {
     "name": "stdout",
     "output_type": "stream",
     "text": [
      "[1, 2, 3, 4, 5]\n"
     ]
    }
   ],
   "source": [
    "#3).wrte a python function that takes a list and returns a new list with distinct elements from the first list.[1,2,3,3,3,3,4,5,5\n",
    "list=[1,2,3,3,3,3,4,5,5]\n",
    "unique_list=[]\n",
    "for a in list:\n",
    "    if a not in unique_list:\n",
    "        unique_list.append(a)\n",
    "print(unique_list)"
   ]
  },
  {
   "cell_type": "code",
   "execution_count": 23,
   "id": "bad6fb4a-e845-4399-a0c7-2bc155a86974",
   "metadata": {},
   "outputs": [
    {
     "name": "stdout",
     "output_type": "stream",
     "text": [
      "[('a', 'b'), ('a', 'c'), ('b', 'c')]\n"
     ]
    }
   ],
   "source": [
    "#4).write a python function total number of combinations.ex.a,b,c\n",
    "from itertools import combinations\n",
    "num=[\"a\",\"b\",\"c\"]\n",
    "combo=[\n",
    "    x for x in combinations(num,2)\n",
    "]\n",
    "print(combo)"
   ]
  },
  {
   "cell_type": "code",
   "execution_count": 25,
   "id": "efaa2fa2-1a1d-4baa-80bf-f9661cb89b59",
   "metadata": {},
   "outputs": [
    {
     "name": "stdout",
     "output_type": "stream",
     "text": [
      "[('a', 'b'), ('a', 'c'), ('b', 'a'), ('b', 'c'), ('c', 'a'), ('c', 'b')]\n"
     ]
    }
   ],
   "source": [
    "#5).write a python function total number of permutation.ex.a,b,c\n",
    "from itertools import permutations\n",
    "num=[\"a\",\"b\",\"c\"]\n",
    "perm=[\n",
    "    x for x in permutations(num,2)\n",
    "]\n",
    "print(perm)"
   ]
  },
  {
   "cell_type": "code",
   "execution_count": 26,
   "id": "0d94aa8b-2cdb-42c5-bae2-eecfa0f2f392",
   "metadata": {},
   "outputs": [
    {
     "name": "stdin",
     "output_type": "stream",
     "text": [
      "enter any string: statistics\n"
     ]
    },
    {
     "name": "stdout",
     "output_type": "stream",
     "text": [
      "Vowels: 3\n",
      "consonants: 7\n"
     ]
    }
   ],
   "source": [
    "#6).defne a function which counts vowels and consonants in a word. statistics\n",
    "s=input(\"enter any string:\")\n",
    "v=c=0\n",
    "for i in s:\n",
    "    if i in 'aeiou':\n",
    "        v+=1\n",
    "    else:\n",
    "        c+=1\n",
    "print(\"Vowels:\",v)\n",
    "print(\"consonants:\",c)\n"
   ]
  },
  {
   "cell_type": "code",
   "execution_count": 29,
   "id": "b2159228-e379-4845-aef3-15f5da23d76b",
   "metadata": {},
   "outputs": [
    {
     "name": "stdin",
     "output_type": "stream",
     "text": [
      "enter any string: statistics\n"
     ]
    },
    {
     "name": "stdout",
     "output_type": "stream",
     "text": [
      "STATISTICS\n"
     ]
    }
   ],
   "source": [
    "#7).define a function that accepts lowercase word and returns uppercase words.statistics \n",
    "s=input(\"enter any string:\")\n",
    "if (s.islower()):\n",
    "    print(s.upper())\n"
   ]
  },
  {
   "cell_type": "code",
   "execution_count": 28,
   "id": "48093ea1-f092-4409-91a8-ec9473d3f2ae",
   "metadata": {},
   "outputs": [
    {
     "name": "stdin",
     "output_type": "stream",
     "text": [
      "enter any string: STatiStiCS\n"
     ]
    },
    {
     "name": "stdout",
     "output_type": "stream",
     "text": [
      "uppercase= 5\n",
      "lowercase= 5\n"
     ]
    }
   ],
   "source": [
    "#8).count lower case and upper case letter. STatiStiCS\n",
    "s=input(\"enter any string:\")\n",
    "u=l=0\n",
    "for i in s:\n",
    "    if i.isupper():\n",
    "        u+=1\n",
    "    if i.islower():\n",
    "        l+=1\n",
    "print(\"uppercase=\",u)\n",
    "print(\"lowercase=\",l)\n"
   ]
  },
  {
   "cell_type": "code",
   "execution_count": null,
   "id": "0b912dc7-1c06-4c0a-a7df-53f9e025f842",
   "metadata": {},
   "outputs": [],
   "source": []
  }
 ],
 "metadata": {
  "kernelspec": {
   "display_name": "Python 3 (ipykernel)",
   "language": "python",
   "name": "python3"
  },
  "language_info": {
   "codemirror_mode": {
    "name": "ipython",
    "version": 3
   },
   "file_extension": ".py",
   "mimetype": "text/x-python",
   "name": "python",
   "nbconvert_exporter": "python",
   "pygments_lexer": "ipython3",
   "version": "3.12.7"
  }
 },
 "nbformat": 4,
 "nbformat_minor": 5
}
