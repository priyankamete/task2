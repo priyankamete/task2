{
 "cells": [
  {
   "cell_type": "code",
   "execution_count": null,
   "id": "33cb1a70-00e9-47ae-8aa2-a380776f8d0f",
   "metadata": {},
   "outputs": [],
   "source": [
    "#Machine learnig"
   ]
  },
  {
   "cell_type": "code",
   "execution_count": null,
   "id": "57ccfbb7-2983-4a10-824e-b5382be0950e",
   "metadata": {},
   "outputs": [],
   "source": [
    "#1)Introduction to NumPy"
   ]
  },
  {
   "cell_type": "code",
   "execution_count": 2,
   "id": "7ae3e0f0-bc19-4ec7-ba94-529acec6e50f",
   "metadata": {},
   "outputs": [
    {
     "name": "stdout",
     "output_type": "stream",
     "text": [
      "int32\n",
      "[1 2 3 4 5]\n"
     ]
    }
   ],
   "source": [
    "#2).Arrays in python\n",
    "#creating arrays using:\n",
    "#np.array()\n",
    "from numpy import *\n",
    "arr=array([1,2,3,4,5])\n",
    "print(arr.dtype)\n",
    "print(arr)"
   ]
  },
  {
   "cell_type": "code",
   "execution_count": 8,
   "id": "e5919f65-8108-4d5d-8e0b-cfe4f388c559",
   "metadata": {},
   "outputs": [
    {
     "name": "stdout",
     "output_type": "stream",
     "text": [
      "[0. 0. 0. 0. 0.]\n"
     ]
    }
   ],
   "source": [
    "#np.zeros()\n",
    "from numpy import *\n",
    "arr=zeros(5)\n",
    "print(arr)"
   ]
  },
  {
   "cell_type": "code",
   "execution_count": 9,
   "id": "e281f19c-0890-4530-96fb-1b737ac35ac3",
   "metadata": {},
   "outputs": [
    {
     "name": "stdout",
     "output_type": "stream",
     "text": [
      "[1. 1. 1. 1. 1.]\n"
     ]
    }
   ],
   "source": [
    "#np.ones()\n",
    "from numpy import *\n",
    "arr=ones(5)\n",
    "print(arr)"
   ]
  },
  {
   "cell_type": "code",
   "execution_count": 10,
   "id": "d5188a82-4afb-457f-82fb-f7c794da23ca",
   "metadata": {},
   "outputs": [
    {
     "name": "stdout",
     "output_type": "stream",
     "text": [
      "[ 0  2  4  6  8 10 12 14 16 18 20]\n"
     ]
    }
   ],
   "source": [
    "#np.arange() (steps involve)\n",
    "from numpy import *\n",
    "arr=arange(0,21,2)\n",
    "print(arr)"
   ]
  },
  {
   "cell_type": "code",
   "execution_count": 11,
   "id": "7280ccf4-6daa-47d6-960b-b3116d6703e1",
   "metadata": {},
   "outputs": [
    {
     "name": "stdout",
     "output_type": "stream",
     "text": [
      "[ 0.  1.  2.  3.  4.  5.  6.  7.  8.  9. 10. 11. 12. 13. 14. 15.]\n"
     ]
    }
   ],
   "source": [
    "#np.linspace() (partition)\n",
    "from numpy import *\n",
    "arr=linspace(0,15,16)\n",
    "print(arr)"
   ]
  },
  {
   "cell_type": "code",
   "execution_count": 12,
   "id": "96137188-e695-4246-90b7-750618760dd9",
   "metadata": {},
   "outputs": [
    {
     "name": "stdout",
     "output_type": "stream",
     "text": [
      "[25 45 64 78 89 77 46 25 49]\n"
     ]
    }
   ],
   "source": [
    "#a).Array indexing \n",
    "import numpy as np\n",
    "arr=np.array([25,45,64,78,89,77,46,25,49])\n",
    "print(arr)"
   ]
  },
  {
   "cell_type": "code",
   "execution_count": 13,
   "id": "453e5aab-e098-4845-a906-eaacca8222c0",
   "metadata": {},
   "outputs": [
    {
     "name": "stdout",
     "output_type": "stream",
     "text": [
      "25\n"
     ]
    }
   ],
   "source": [
    "print(arr[0])"
   ]
  },
  {
   "cell_type": "code",
   "execution_count": 15,
   "id": "61708cf1-1720-4e88-96b2-4b4a5c1a3270",
   "metadata": {},
   "outputs": [
    {
     "name": "stdout",
     "output_type": "stream",
     "text": [
      "[[25 45 64]\n",
      " [78 89 77]\n",
      " [46 25 49]]\n"
     ]
    }
   ],
   "source": [
    "arr=np.array([[25,45,64],[78,89,77],[46,25,49]])\n",
    "print(arr)"
   ]
  },
  {
   "cell_type": "code",
   "execution_count": 16,
   "id": "d63234fb-268d-479c-a297-d1f58c539851",
   "metadata": {},
   "outputs": [
    {
     "name": "stdout",
     "output_type": "stream",
     "text": [
      "25\n"
     ]
    }
   ],
   "source": [
    "print(arr[0,0])"
   ]
  },
  {
   "cell_type": "code",
   "execution_count": 18,
   "id": "33c0e523-45b3-4538-921a-d8103136e47e",
   "metadata": {},
   "outputs": [
    {
     "name": "stdout",
     "output_type": "stream",
     "text": [
      "46\n"
     ]
    }
   ],
   "source": [
    "print(arr[2,0])"
   ]
  },
  {
   "cell_type": "code",
   "execution_count": 20,
   "id": "d15b0b3e-29d2-4428-be7b-0a3753bec1f4",
   "metadata": {},
   "outputs": [
    {
     "name": "stdout",
     "output_type": "stream",
     "text": [
      "[25 45 64 78 89]\n"
     ]
    }
   ],
   "source": [
    "#b).Array slicing\n",
    "arr=np.array([25,45,64,78,89,77,46,25,49])\n",
    "print(arr[0:5])"
   ]
  },
  {
   "cell_type": "code",
   "execution_count": 8,
   "id": "d9254fba-c40c-4113-bb7c-b2bb82af3947",
   "metadata": {},
   "outputs": [
    {
     "name": "stdout",
     "output_type": "stream",
     "text": [
      "[64 89 46]\n"
     ]
    }
   ],
   "source": [
    "import numpy as np\n",
    "arr=np.array([25,45,64,78,89,77,46,25,49])\n",
    "print(arr[2:7:2])  #(slicing with step2)"
   ]
  },
  {
   "cell_type": "code",
   "execution_count": 7,
   "id": "9298d30d-035d-4dfe-8fc6-90db3fa3a40c",
   "metadata": {},
   "outputs": [
    {
     "name": "stdout",
     "output_type": "stream",
     "text": [
      "[25 45 64 78 89 77 46 25 49]\n"
     ]
    }
   ],
   "source": [
    "import numpy as np\n",
    "arr=np.array([25,45,64,78,89,77,46,25,49])\n",
    "print(arr[::])"
   ]
  },
  {
   "cell_type": "code",
   "execution_count": 27,
   "id": "b5d14ecb-c8f8-4864-9ee3-943674440683",
   "metadata": {},
   "outputs": [
    {
     "name": "stdout",
     "output_type": "stream",
     "text": [
      "[49 25 46 77 89 78 64 45 25]\n"
     ]
    }
   ],
   "source": [
    "print(arr[::-1])"
   ]
  },
  {
   "cell_type": "code",
   "execution_count": 28,
   "id": "1474b183-a107-44a2-a964-65c16f45ee16",
   "metadata": {
    "scrolled": true
   },
   "outputs": [
    {
     "name": "stdout",
     "output_type": "stream",
     "text": [
      "[[25 45 64]\n",
      " [78 89 77]\n",
      " [46 25 49]]\n"
     ]
    }
   ],
   "source": [
    "arr=np.array([[25,45,64],[78,89,77],[46,25,49]])\n",
    "print(arr)"
   ]
  },
  {
   "cell_type": "code",
   "execution_count": 35,
   "id": "69925071-a279-4c40-8d0c-af89308a5cf8",
   "metadata": {},
   "outputs": [
    {
     "name": "stdout",
     "output_type": "stream",
     "text": [
      "[64 77 49]\n"
     ]
    }
   ],
   "source": [
    "print(arr[:,2])"
   ]
  },
  {
   "cell_type": "code",
   "execution_count": 38,
   "id": "7d9fd4ca-37ef-4457-8908-0485a5bc1b07",
   "metadata": {},
   "outputs": [
    {
     "name": "stdout",
     "output_type": "stream",
     "text": [
      "[[78 89]\n",
      " [46 25]]\n"
     ]
    }
   ],
   "source": [
    "print(arr[1:3,0:2])"
   ]
  },
  {
   "cell_type": "code",
   "execution_count": 35,
   "id": "eb84747b-edf0-4a5c-943a-e0e279f3c090",
   "metadata": {},
   "outputs": [
    {
     "name": "stdout",
     "output_type": "stream",
     "text": [
      "[ 35  73 104 117 116 133  66 104 138]\n"
     ]
    }
   ],
   "source": [
    "#3)Array operations\n",
    "#a).arithmetic operations\n",
    "#addition\n",
    "import numpy as np\n",
    "arr1=np.array([25,45,64,78,89,77,46,25,49])\n",
    "arr2=np.array([10,28,40,39,27,56,20,79,89])\n",
    "add=arr+arr2\n",
    "print(add)\n"
   ]
  },
  {
   "cell_type": "code",
   "execution_count": 10,
   "id": "296b2642-84c0-447f-9370-be8885ab27ca",
   "metadata": {},
   "outputs": [
    {
     "name": "stdout",
     "output_type": "stream",
     "text": [
      "[ 15  17  24  39  62  21  26 -54 -40]\n"
     ]
    }
   ],
   "source": [
    "#substraction\n",
    "import numpy as np\n",
    "arr1=np.array([25,45,64,78,89,77,46,25,49])\n",
    "arr2=np.array([10,28,40,39,27,56,20,79,89])\n",
    "sub=arr1-arr2\n",
    "print(sub)\n"
   ]
  },
  {
   "cell_type": "code",
   "execution_count": 14,
   "id": "0764d168-8286-4884-8197-50787e5cbc6d",
   "metadata": {},
   "outputs": [
    {
     "name": "stdout",
     "output_type": "stream",
     "text": [
      "[[ 3285  6971  9216]\n",
      " [ 5791 10670 14957]\n",
      " [ 2415  5834  7601]]\n"
     ]
    }
   ],
   "source": [
    "#multipliction\n",
    "import numpy as np\n",
    "arr1=np.array([[25,45,64],[78,89,77],[46,25,49]])\n",
    "arr2=np.array([[10,28,40],[39,27,56],[20,79,89]])\n",
    "mult=arr1@arr2\n",
    "print(mult)"
   ]
  },
  {
   "cell_type": "code",
   "execution_count": 31,
   "id": "f110ce05-09b3-4f94-b366-f6dd2cf019cd",
   "metadata": {},
   "outputs": [
    {
     "name": "stdout",
     "output_type": "stream",
     "text": [
      "[2.5        1.60714286 1.6        2.         3.2962963  1.375\n",
      " 2.3        0.3164557  0.5505618 ]\n"
     ]
    }
   ],
   "source": [
    "#division\n",
    "import numpy as np\n",
    "arr1=np.array([25,45,64,78,89,77,46,25,49])\n",
    "arr2=np.array([10,28,40,39,27,56,20,79,89])\n",
    "div=arr1/arr2\n",
    "print(div)"
   ]
  },
  {
   "cell_type": "code",
   "execution_count": 15,
   "id": "f21b464c-d46b-4be8-8a31-bd2209d3280a",
   "metadata": {},
   "outputs": [
    {
     "ename": "ValueError",
     "evalue": "operands could not be broadcast together with shapes (4,) (3,) ",
     "output_type": "error",
     "traceback": [
      "\u001b[1;31m---------------------------------------------------------------------------\u001b[0m",
      "\u001b[1;31mValueError\u001b[0m                                Traceback (most recent call last)",
      "Cell \u001b[1;32mIn[15], line 5\u001b[0m\n\u001b[0;32m      3\u001b[0m arr1\u001b[38;5;241m=\u001b[39mnp\u001b[38;5;241m.\u001b[39marray([\u001b[38;5;241m1\u001b[39m,\u001b[38;5;241m2\u001b[39m,\u001b[38;5;241m3\u001b[39m,\u001b[38;5;241m4\u001b[39m])\n\u001b[0;32m      4\u001b[0m arr2\u001b[38;5;241m=\u001b[39mnp\u001b[38;5;241m.\u001b[39marray([\u001b[38;5;241m1\u001b[39m,\u001b[38;5;241m2\u001b[39m,\u001b[38;5;241m3\u001b[39m])\n\u001b[1;32m----> 5\u001b[0m \u001b[38;5;28mprint\u001b[39m(arr1\u001b[38;5;241m+\u001b[39marr2)\n",
      "\u001b[1;31mValueError\u001b[0m: operands could not be broadcast together with shapes (4,) (3,) "
     ]
    }
   ],
   "source": [
    "#b).broadcasting\n",
    "import numpy as np\n",
    "arr1=np.array([1,2,3,4])\n",
    "arr2=np.array([1,2,3])\n",
    "print(arr1+arr2)"
   ]
  },
  {
   "cell_type": "code",
   "execution_count": 17,
   "id": "b4c0d0cf-34ce-4464-98fb-a5f55b78fe8f",
   "metadata": {},
   "outputs": [
    {
     "name": "stdout",
     "output_type": "stream",
     "text": [
      "[1 2 3]\n",
      "[[1]\n",
      " [2]\n",
      " [3]]\n",
      "\n",
      "[[2 3 4]\n",
      " [3 4 5]\n",
      " [4 5 6]]\n"
     ]
    }
   ],
   "source": [
    "import numpy as np\n",
    "arr1=np.array([1,2,3])\n",
    "arr2=np.array([[1],[2],[3]])\n",
    "print(arr1)\n",
    "print(arr2)\n",
    "print()\n",
    "print(arr1+arr2)"
   ]
  },
  {
   "cell_type": "code",
   "execution_count": 18,
   "id": "f089794d-9581-418e-a54a-a33c73b6814c",
   "metadata": {},
   "outputs": [
    {
     "name": "stdout",
     "output_type": "stream",
     "text": [
      "[ 6  8 10 12]\n"
     ]
    }
   ],
   "source": [
    "#c).element wise operations and functions\n",
    "import numpy as np\n",
    "arr1=np.array([1,2,3,4])\n",
    "arr2=np.array([5,6,7,8])\n",
    "print(arr1+arr2)"
   ]
  },
  {
   "cell_type": "code",
   "execution_count": 21,
   "id": "89861b92-a858-46eb-a729-ae3fc8b0cad8",
   "metadata": {},
   "outputs": [
    {
     "name": "stdout",
     "output_type": "stream",
     "text": [
      "(3,)\n",
      "(3, 1)\n"
     ]
    }
   ],
   "source": [
    "#4).Array shapes and Reshaping\n",
    "#a)chaking array dimentions\n",
    "#shape\n",
    "import numpy as np\n",
    "arr1=np.array([1,2,3])\n",
    "arr2=np.array([[1],[2],[3]])\n",
    "print(arr1.shape)\n",
    "print(arr2.shape)"
   ]
  },
  {
   "cell_type": "code",
   "execution_count": 9,
   "id": "b51edb8b-5f98-4e5c-a31a-828c1844a977",
   "metadata": {},
   "outputs": [
    {
     "name": "stdout",
     "output_type": "stream",
     "text": [
      "[[[25 45 64]\n",
      "  [78 89 77]]\n",
      "\n",
      " [[46 25 49]\n",
      "  [46 78 99]]]\n",
      "3\n",
      "\n",
      "[[1 2 3]\n",
      " [4 5 6]]\n",
      "2\n",
      "\n",
      "[7 8 9]\n",
      "1\n"
     ]
    }
   ],
   "source": [
    "#ndim\n",
    "import numpy as np\n",
    "arr1=np.array([[[25,45,64],[78,89,77]],[[46,25,49],[46,78,99]]])\n",
    "arr2=np.array([[1,2,3],[4,5,6]])\n",
    "arr3=np.array([7,8,9])\n",
    "print(arr1)\n",
    "print(arr1.ndim)\n",
    "print()\n",
    "print(arr2)\n",
    "print(arr2.ndim)\n",
    "print()\n",
    "print(arr3)\n",
    "print(arr3.ndim)"
   ]
  },
  {
   "cell_type": "code",
   "execution_count": 25,
   "id": "a8daccc6-9da9-46c1-aaec-6f105fb1e7c7",
   "metadata": {},
   "outputs": [
    {
     "name": "stdout",
     "output_type": "stream",
     "text": [
      "[[1 2]\n",
      " [3 4]]\n",
      "[[1 2]\n",
      " [3 4]]\n"
     ]
    }
   ],
   "source": [
    "#b)changing array shape with \n",
    "#reshape()\n",
    "import numpy as np\n",
    "arr1=np.array([1,2,3,4])\n",
    "arr2=np.array([[1],[2],[3],[4]])\n",
    "print(arr1.reshape(2,2))\n",
    "print(arr2.reshape(2,2))"
   ]
  },
  {
   "cell_type": "code",
   "execution_count": 4,
   "id": "a5766d21-45e4-4577-a172-f4f36a77ef47",
   "metadata": {},
   "outputs": [
    {
     "name": "stdout",
     "output_type": "stream",
     "text": [
      "[[25 45 64]\n",
      " [78 89 77]\n",
      " [46 25 49]]\n",
      "[25 45 64 78 89 77 46 25 49]\n",
      "\n",
      "[[10 28 40]\n",
      " [39 27 56]\n",
      " [20 79 89]]\n",
      "[10 28 40 39 27 56 20 79 89]\n"
     ]
    }
   ],
   "source": [
    "#flatten()\n",
    "import numpy as np\n",
    "arr1=np.array([[25,45,64],[78,89,77],[46,25,49]])\n",
    "arr2=np.array([[10,28,40],[39,27,56],[20,79,89]])\n",
    "f1=arr1.flatten()\n",
    "f2=arr2.flatten()\n",
    "print(arr1)\n",
    "print(f1)\n",
    "print()\n",
    "print(arr2)\n",
    "print(f2)\n"
   ]
  },
  {
   "cell_type": "code",
   "execution_count": 13,
   "id": "634467cc-9c33-4355-a3bd-2e511e648265",
   "metadata": {},
   "outputs": [
    {
     "name": "stdout",
     "output_type": "stream",
     "text": [
      "[1 2 3]\n",
      "(3,)\n",
      "[1 2 3]\n",
      "(3,)\n",
      "\n",
      "[[1]\n",
      " [2]\n",
      " [3]]\n",
      "(3, 1)\n",
      "[[1 2 3]]\n",
      "(1, 3)\n"
     ]
    }
   ],
   "source": [
    "#transpose()\n",
    "import numpy as np\n",
    "arr1=np.array([1,2,3])\n",
    "arr2=np.array([[1],[2],[3]])\n",
    "t1=np.transpose(arr1)\n",
    "t2=np.transpose(arr2)\n",
    "print(arr1)\n",
    "print(arr1.shape)\n",
    "print(t1)\n",
    "print(t1.shape)\n",
    "print()\n",
    "print(arr2)\n",
    "print(arr2.shape)\n",
    "print(t2)\n",
    "print(t2.shape)\n"
   ]
  },
  {
   "cell_type": "code",
   "execution_count": 15,
   "id": "6cf9a296-e623-4784-bca8-5d6505f14ae2",
   "metadata": {},
   "outputs": [
    {
     "name": "stdout",
     "output_type": "stream",
     "text": [
      "[[25 45 64]\n",
      " [78 89 77]\n",
      " [46 25 49]]\n",
      "\n",
      "[[10 28 40]\n",
      " [39 27 56]\n",
      " [20 79 89]]\n",
      "\n",
      "[[25 45 64]\n",
      " [78 89 77]\n",
      " [46 25 49]\n",
      " [10 28 40]\n",
      " [39 27 56]\n",
      " [20 79 89]]\n"
     ]
    }
   ],
   "source": [
    "#c)concatenating and spliting array using\n",
    "#np.concatenate()\n",
    "import numpy as np\n",
    "arr1=np.array([[25,45,64],[78,89,77],[46,25,49]])\n",
    "arr2=np.array([[10,28,40],[39,27,56],[20,79,89]])\n",
    "c=np.concatenate((arr1,arr2),axis=0)\n",
    "print(arr1)\n",
    "print()\n",
    "print(arr2)\n",
    "print()\n",
    "print(c)"
   ]
  },
  {
   "cell_type": "code",
   "execution_count": 16,
   "id": "226c92df-8e6f-48c7-bf12-af704ece2b71",
   "metadata": {},
   "outputs": [
    {
     "name": "stdout",
     "output_type": "stream",
     "text": [
      "[[25 45 64]\n",
      " [78 89 77]\n",
      " [46 25 49]]\n",
      "\n",
      "[[10 28 40]\n",
      " [39 27 56]\n",
      " [20 79 89]]\n",
      "\n",
      "[[25 45 64 10 28 40]\n",
      " [78 89 77 39 27 56]\n",
      " [46 25 49 20 79 89]]\n"
     ]
    }
   ],
   "source": [
    "arr1=np.array([[25,45,64],[78,89,77],[46,25,49]])\n",
    "arr2=np.array([[10,28,40],[39,27,56],[20,79,89]])\n",
    "c=np.concatenate((arr1,arr2),axis=1)\n",
    "print(arr1)\n",
    "print()\n",
    "print(arr2)\n",
    "print()\n",
    "print(c)"
   ]
  },
  {
   "cell_type": "code",
   "execution_count": 20,
   "id": "c0f4a4e3-4569-4a7d-81f8-bb084df5d137",
   "metadata": {},
   "outputs": [
    {
     "name": "stdout",
     "output_type": "stream",
     "text": [
      "[25 45 64 78 89 77 46 25 49]\n",
      "[array([25, 45, 64]), array([78, 89, 77]), array([46, 25, 49])]\n",
      "\n",
      "[10 28 40 39 27 56 20 79 89]\n",
      "[array([10, 28, 40]), array([39, 27, 56]), array([20, 79, 89])]\n"
     ]
    }
   ],
   "source": [
    "#np.split()\n",
    "import numpy as np\n",
    "arr1=np.array([25,45,64,78,89,77,46,25,49])\n",
    "arr2=np.array([10,28,40,39,27,56,20,79,89])\n",
    "s1=np.split(arr1,3)\n",
    "s2=np.split(arr2,3)\n",
    "print(arr1)\n",
    "print(s1)\n",
    "print()\n",
    "print(arr2)\n",
    "print(s2)"
   ]
  },
  {
   "cell_type": "code",
   "execution_count": 25,
   "id": "fe5c1c29-fc4a-4c2e-8f3d-ce6ff521b9d3",
   "metadata": {},
   "outputs": [
    {
     "name": "stdout",
     "output_type": "stream",
     "text": [
      "[[25 45 64]\n",
      " [78 89 77]\n",
      " [46 25 49]]\n",
      "\n",
      "[[10 28 40]\n",
      " [39 27 56]\n",
      " [20 79 89]]\n",
      "\n",
      "[[25 45 64 10 28 40 25 45 64]\n",
      " [78 89 77 39 27 56 78 89 77]\n",
      " [46 25 49 20 79 89 46 25 49]]\n"
     ]
    }
   ],
   "source": [
    "#np.hstack()\n",
    "import numpy as np\n",
    "arr1=np.array([[25,45,64],[78,89,77],[46,25,49]])\n",
    "arr2=np.array([[10,28,40],[39,27,56],[20,79,89]])\n",
    "hs=np.hstack([arr1,arr2,arr1])\n",
    "print(arr1)\n",
    "print()\n",
    "print(arr2)\n",
    "print()\n",
    "print(hs)"
   ]
  },
  {
   "cell_type": "code",
   "execution_count": 27,
   "id": "4751f473-8de3-4485-8b8c-9c9fa733ccca",
   "metadata": {},
   "outputs": [
    {
     "name": "stdout",
     "output_type": "stream",
     "text": [
      "[[25 45 64]\n",
      " [78 89 77]\n",
      " [46 25 49]]\n",
      "\n",
      "[[10 28 40]\n",
      " [39 27 56]\n",
      " [20 79 89]]\n",
      "\n",
      "[[25 45 64]\n",
      " [78 89 77]\n",
      " [46 25 49]\n",
      " [10 28 40]\n",
      " [39 27 56]\n",
      " [20 79 89]\n",
      " [25 45 64]\n",
      " [78 89 77]\n",
      " [46 25 49]]\n"
     ]
    }
   ],
   "source": [
    "#np.vstack()\n",
    "import numpy as np\n",
    "arr1=np.array([[25,45,64],[78,89,77],[46,25,49]])\n",
    "arr2=np.array([[10,28,40],[39,27,56],[20,79,89]])\n",
    "vs=np.vstack([arr1,arr2,arr1])\n",
    "print(arr1)\n",
    "print()\n",
    "print(arr2)\n",
    "print()\n",
    "print(vs)"
   ]
  },
  {
   "cell_type": "code",
   "execution_count": 28,
   "id": "e6a4c7ff-ef99-4d40-bad9-d0ca49a8a3be",
   "metadata": {},
   "outputs": [
    {
     "name": "stdout",
     "output_type": "stream",
     "text": [
      "[25 45 64 78 89 77 46 25 49]\n"
     ]
    }
   ],
   "source": [
    "#5)Arry Manipulation\n",
    "#a).indexing and slicing\n",
    "#.Array indexing \n",
    "import numpy as np\n",
    "arr=np.array([25,45,64,78,89,77,46,25,49])\n",
    "print(arr)"
   ]
  },
  {
   "cell_type": "code",
   "execution_count": 29,
   "id": "a07115db-d81e-4167-b235-d4c7d55f6c23",
   "metadata": {},
   "outputs": [
    {
     "name": "stdout",
     "output_type": "stream",
     "text": [
      "[25 45 64 78 89]\n"
     ]
    }
   ],
   "source": [
    "#b).Array slicing\n",
    "arr=np.array([25,45,64,78,89,77,46,25,49])\n",
    "print(arr[0:5])"
   ]
  },
  {
   "cell_type": "code",
   "execution_count": 3,
   "id": "fbc24b41-2228-4b51-8363-ad1750853d9c",
   "metadata": {},
   "outputs": [
    {
     "name": "stdout",
     "output_type": "stream",
     "text": [
      "[25 45 -1 -1 89 77 -1 25 49]\n"
     ]
    }
   ],
   "source": [
    "#b).masking\n",
    "import numpy as np\n",
    "arr=np.array([25,45,64,78,89,77,46,25,49])\n",
    "mask=arr%2==0\n",
    "arr[mask]=-1\n",
    "print(arr)\n"
   ]
  },
  {
   "cell_type": "code",
   "execution_count": 33,
   "id": "c16d3075-d3ca-4f1b-a5c7-b668d6d1117b",
   "metadata": {},
   "outputs": [
    {
     "name": "stdout",
     "output_type": "stream",
     "text": [
      "[[25 45 64]\n",
      " [78 89 77]\n",
      " [46 25 49]\n",
      " [50 99 26]]\n",
      "\n",
      "[[46 25 49]\n",
      " [25 45 64]\n",
      " [50 99 26]]\n"
     ]
    }
   ],
   "source": [
    "#c).fancy indexing\n",
    "import numpy as np\n",
    "arr1=np.array([[25,45,64],[78,89,77],[46,25,49],[50,99,26]])\n",
    "print(arr1)\n",
    "print()\n",
    "print(arr1[[2,0,3]])\n"
   ]
  },
  {
   "cell_type": "code",
   "execution_count": 37,
   "id": "dd231bda-6c2c-4f38-a60b-8b8f8785964d",
   "metadata": {},
   "outputs": [
    {
     "name": "stdout",
     "output_type": "stream",
     "text": [
      "[ 35  73 104 117 116 133  66 104 138]\n"
     ]
    }
   ],
   "source": [
    "#6).Mathematical functions\n",
    "#a).universal functions(ufuncs):\n",
    "#np.add()\n",
    "import numpy as np\n",
    "arr1=np.array([25,45,64,78,89,77,46,25,49])\n",
    "arr2=np.array([10,28,40,39,27,56,20,79,89])\n",
    "add=arr1+arr2\n",
    "print(add)\n"
   ]
  },
  {
   "cell_type": "code",
   "execution_count": 36,
   "id": "abefed7e-8e10-4e7c-bcb9-f2790a7383ff",
   "metadata": {},
   "outputs": [
    {
     "name": "stdout",
     "output_type": "stream",
     "text": [
      "[ 15  17  24  39  62  21  26 -54 -40]\n"
     ]
    }
   ],
   "source": [
    "#np.subtract()\n",
    "import numpy as np\n",
    "arr1=np.array([25,45,64,78,89,77,46,25,49])\n",
    "arr2=np.array([10,28,40,39,27,56,20,79,89])\n",
    "sub=arr1-arr2\n",
    "print(sub)\n"
   ]
  },
  {
   "cell_type": "code",
   "execution_count": 40,
   "id": "fdc90480-1e08-4e30-88f4-bacd923f9530",
   "metadata": {},
   "outputs": [
    {
     "name": "stdout",
     "output_type": "stream",
     "text": [
      "[[25 45 64]\n",
      " [78 89 77]\n",
      " [46 25 49]]\n",
      "\n",
      "[[10 28 40]\n",
      " [39 27 56]\n",
      " [20 79 89]]\n",
      "\n",
      "[[ 3285  6971  9216]\n",
      " [ 5791 10670 14957]\n",
      " [ 2415  5834  7601]]\n"
     ]
    }
   ],
   "source": [
    "#np.multiply()\n",
    "import numpy as np\n",
    "arr1=np.array([[25,45,64],[78,89,77],[46,25,49]])\n",
    "arr2=np.array([[10,28,40],[39,27,56],[20,79,89]])\n",
    "mul=arr1@arr2\n",
    "print(arr1)\n",
    "print()\n",
    "print(arr2)\n",
    "print()\n",
    "print(mul)\n"
   ]
  },
  {
   "cell_type": "code",
   "execution_count": 5,
   "id": "cc67b6fb-0dbb-449d-9950-b1870d6df3a8",
   "metadata": {},
   "outputs": [
    {
     "name": "stdout",
     "output_type": "stream",
     "text": [
      "55.333333333333336\n"
     ]
    }
   ],
   "source": [
    "#b)statistical functions:\n",
    "#np.mean()\n",
    "import numpy as np\n",
    "arr=np.array([25,45,64,78,89,77,46,25,49])\n",
    "y=np.mean(x)\n",
    "print(y)"
   ]
  },
  {
   "cell_type": "code",
   "execution_count": 6,
   "id": "8e30d917-ed9c-463b-857e-5b6ee8e3b825",
   "metadata": {},
   "outputs": [
    {
     "name": "stdout",
     "output_type": "stream",
     "text": [
      "49.0\n"
     ]
    }
   ],
   "source": [
    "#np.median()\n",
    "import numpy as np\n",
    "arr=np.array([25,45,64,78,89,77,46,25,49])\n",
    "y=np.median(x)\n",
    "print(y)"
   ]
  },
  {
   "cell_type": "code",
   "execution_count": 7,
   "id": "93e13c6c-622f-4a4f-ab5f-f9fd4a54a290",
   "metadata": {},
   "outputs": [
    {
     "name": "stdout",
     "output_type": "stream",
     "text": [
      "21.77154105707724\n"
     ]
    }
   ],
   "source": [
    "#np.std()\n",
    "import numpy as np\n",
    "arr=np.array([25,45,64,78,89,77,46,25,49])\n",
    "y=np.std(x)\n",
    "print(y)"
   ]
  },
  {
   "cell_type": "code",
   "execution_count": 8,
   "id": "d0b03f70-2d7a-4553-8dc1-a7a686335048",
   "metadata": {},
   "outputs": [
    {
     "name": "stdout",
     "output_type": "stream",
     "text": [
      "474.0\n"
     ]
    }
   ],
   "source": [
    "#np.var()\n",
    "import numpy as np\n",
    "arr=np.array([25,45,64,78,89,77,46,25,49])\n",
    "y=np.var(x)\n",
    "print(y)"
   ]
  },
  {
   "cell_type": "code",
   "execution_count": 9,
   "id": "23c17336-877b-4a6c-89f3-d07956a61d22",
   "metadata": {},
   "outputs": [
    {
     "name": "stdout",
     "output_type": "stream",
     "text": [
      "25\n"
     ]
    }
   ],
   "source": [
    "#np.min()\n",
    "import numpy as np\n",
    "arr=np.array([25,45,64,78,89,77,46,25,49])\n",
    "y=np.min(x)\n",
    "print(y)"
   ]
  },
  {
   "cell_type": "code",
   "execution_count": 10,
   "id": "3e70b78a-88a0-43eb-a841-fb716d394ca0",
   "metadata": {},
   "outputs": [
    {
     "name": "stdout",
     "output_type": "stream",
     "text": [
      "89\n"
     ]
    }
   ],
   "source": [
    "#np.max()\n",
    "import numpy as np\n",
    "arr=np.array([25,45,64,78,89,77,46,25,49])\n",
    "y=np.max(x)\n",
    "print(y)"
   ]
  },
  {
   "cell_type": "code",
   "execution_count": 3,
   "id": "52899072-f432-4229-84a7-5cb469574d10",
   "metadata": {},
   "outputs": [
    {
     "name": "stdout",
     "output_type": "stream",
     "text": [
      "21083\n"
     ]
    }
   ],
   "source": [
    "#c).linear algebra functions:\n",
    "#np.dot()\n",
    "import numpy as np\n",
    "x=np.array([25,45,64,78,89,77,46,25,49])\n",
    "y=np.array([10,28,40,39,27,56,20,79,89])\n",
    "z=np.dot((x),(y))\n",
    "print(z)"
   ]
  },
  {
   "cell_type": "code",
   "execution_count": 5,
   "id": "3fd4b22d-911b-4af0-b1aa-0c8582b58b03",
   "metadata": {},
   "outputs": [
    {
     "name": "stdout",
     "output_type": "stream",
     "text": [
      "21083\n"
     ]
    }
   ],
   "source": [
    "#np.matmul()\n",
    "import numpy as np\n",
    "x=np.array([25,45,64,78,89,77,46,25,49])\n",
    "y=np.array([10,28,40,39,27,56,20,79,89])\n",
    "print(x@y)"
   ]
  },
  {
   "cell_type": "code",
   "execution_count": 6,
   "id": "8bb5bb47-2219-4a67-b522-208f3a468eb0",
   "metadata": {},
   "outputs": [
    {
     "name": "stdout",
     "output_type": "stream",
     "text": [
      "[[-0.02739664  0.00680417  0.0250911 ]\n",
      " [ 0.00314904  0.01933285 -0.03449323]\n",
      " [ 0.02411265 -0.01625129  0.01445184]]\n"
     ]
    }
   ],
   "source": [
    "#np.linalg.inv()\n",
    "import numpy as np\n",
    "x=np.array([[25,45,64],[78,89,77],[46,25,49]])\n",
    "x_inv= np.linalg.inv(x)\n",
    "print(x_inv)"
   ]
  },
  {
   "cell_type": "code",
   "execution_count": 10,
   "id": "d10da0f8-163a-405e-b440-a93f379ad04c",
   "metadata": {},
   "outputs": [
    {
     "name": "stdout",
     "output_type": "stream",
     "text": [
      "[[1 2 3]\n",
      " [3 4 5]\n",
      " [6 7 8]]\n",
      "\n",
      "[[ 0.26564776  0.74442863  0.40824829]\n",
      " [ 0.49120712  0.19070122 -0.81649658]\n",
      " [ 0.82954616 -0.63988988  0.40824829]]\n",
      "\n",
      "[ 1.40663730e+01 -1.06637298e+00 -1.08222200e-15]\n"
     ]
    }
   ],
   "source": [
    "#np.linalg.eig()\n",
    "import numpy as np\n",
    "x=np.array([[1,2,3],[3,4,5],[6,7,8]])\n",
    "y=np.array([10,28,40,39,27,56,20,79,89])\n",
    "[eig_vec,eig_val] = np.linalg.eig(x)\n",
    "print(x)\n",
    "print()\n",
    "print(eig_val)\n",
    "print()\n",
    "print(eig_vec)"
   ]
  },
  {
   "cell_type": "code",
   "execution_count": 39,
   "id": "82471fb2-d52e-46b5-baf4-794f7bc7f4de",
   "metadata": {},
   "outputs": [
    {
     "name": "stdout",
     "output_type": "stream",
     "text": [
      "[0.18532822 0.10837689 0.21969749 0.97862378 0.81168315 0.17194101\n",
      " 0.81622475 0.27407375 0.43170418 0.94002982]\n"
     ]
    }
   ],
   "source": [
    "#7).Random number geneation:\n",
    "#a).generating random numbers\n",
    "#np.random.rand()\n",
    "import numpy as np\n",
    "arr=np.random.random(10)\n",
    "print(arr)"
   ]
  },
  {
   "cell_type": "code",
   "execution_count": 25,
   "id": "285d1223-c5dc-4fe1-9347-91f3c9367fc5",
   "metadata": {},
   "outputs": [
    {
     "name": "stdout",
     "output_type": "stream",
     "text": [
      "[[11 10 18]\n",
      " [14 10 19]]\n"
     ]
    }
   ],
   "source": [
    "#np.random.randint()\n",
    "import numpy as np\n",
    "arr = np.random.randint(10,20,(2,3))\n",
    "print(arr)"
   ]
  },
  {
   "cell_type": "code",
   "execution_count": 27,
   "id": "5343160a-1d99-4aba-8903-190bb435e12e",
   "metadata": {},
   "outputs": [
    {
     "name": "stdout",
     "output_type": "stream",
     "text": [
      "[[18 18 13]\n",
      " [17 17 10]]\n"
     ]
    }
   ],
   "source": [
    "#b).seeding random number generation\n",
    "#np.random.seed()\n",
    "import numpy as np\n",
    "np.random.seed(100)\n",
    "arr=np.random.randint(10,20,(2,3))\n",
    "print(arr)"
   ]
  },
  {
   "cell_type": "code",
   "execution_count": 40,
   "id": "eeb2bbc1-697b-4692-bad7-5a20a1d39590",
   "metadata": {},
   "outputs": [
    {
     "name": "stdout",
     "output_type": "stream",
     "text": [
      "[1 2 3]\n"
     ]
    }
   ],
   "source": [
    "#c).sampling,shuffling,and permutation.\n",
    "#sampling\n",
    "import numpy as np\n",
    "arr=np.array([1,2,3])\n",
    "print(arr)"
   ]
  },
  {
   "cell_type": "code",
   "execution_count": 35,
   "id": "1aa580cb-59aa-422f-b939-a24f6e4c5555",
   "metadata": {},
   "outputs": [
    {
     "name": "stdout",
     "output_type": "stream",
     "text": [
      "[3 2 1]\n"
     ]
    }
   ],
   "source": [
    "#shuffling\n",
    "import numpy as np\n",
    "from numpy import random\n",
    "arr=np.array([1,2,3])\n",
    "random.shuffle(arr)\n",
    "print(arr)"
   ]
  },
  {
   "cell_type": "code",
   "execution_count": 36,
   "id": "a765969c-d525-4b4a-8ba5-5ea1657f44fa",
   "metadata": {},
   "outputs": [
    {
     "name": "stdout",
     "output_type": "stream",
     "text": [
      "[1 2 3]\n"
     ]
    }
   ],
   "source": [
    "#permutation\n",
    "import numpy as np\n",
    "from numpy import random\n",
    "arr=np.array([1,2,3])\n",
    "random.permutation(arr)\n",
    "print(arr)\n"
   ]
  },
  {
   "cell_type": "code",
   "execution_count": null,
   "id": "cc2f710b-fa1b-481a-b26f-84dfda4a42eb",
   "metadata": {},
   "outputs": [],
   "source": [
    "#8).Broadcasting\n",
    "#understanding how NumPy handles operations between array of different shapes."
   ]
  },
  {
   "cell_type": "code",
   "execution_count": null,
   "id": "b9416e63-9d70-4d73-9833-f6c4b345dc98",
   "metadata": {},
   "outputs": [],
   "source": [
    "#Rules of broadcasting"
   ]
  },
  {
   "cell_type": "code",
   "execution_count": null,
   "id": "312608a3-7614-40f1-8d2c-c13469c8aa41",
   "metadata": {},
   "outputs": [],
   "source": []
  },
  {
   "cell_type": "code",
   "execution_count": null,
   "id": "5e320414-d642-4219-b2ff-ec076dd3b618",
   "metadata": {},
   "outputs": [],
   "source": []
  },
  {
   "cell_type": "code",
   "execution_count": null,
   "id": "d1cb6f8a-ec01-44a8-b000-fb45b8f96eac",
   "metadata": {},
   "outputs": [],
   "source": []
  }
 ],
 "metadata": {
  "kernelspec": {
   "display_name": "Python 3 (ipykernel)",
   "language": "python",
   "name": "python3"
  },
  "language_info": {
   "codemirror_mode": {
    "name": "ipython",
    "version": 3
   },
   "file_extension": ".py",
   "mimetype": "text/x-python",
   "name": "python",
   "nbconvert_exporter": "python",
   "pygments_lexer": "ipython3",
   "version": "3.12.7"
  }
 },
 "nbformat": 4,
 "nbformat_minor": 5
}
