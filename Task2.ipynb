{
 "cells": [
  {
   "cell_type": "code",
   "execution_count": 16,
   "id": "bf8c634a-da0c-44ce-9a99-5f1d5f2768c9",
   "metadata": {},
   "outputs": [
    {
     "name": "stdin",
     "output_type": "stream",
     "text": [
      "Enter your marks 7\n"
     ]
    },
    {
     "name": "stdout",
     "output_type": "stream",
     "text": [
      "Your Grade is = (fail)\n"
     ]
    }
   ],
   "source": [
    "##### if_else\n",
    "\n",
    "#1).Grade code\n",
    "\n",
    "p=50\n",
    "O:p>75\n",
    "A:60<p>75\n",
    "B:50<p<60\n",
    "C:35<p<50\n",
    "fail:p<35\n",
    "\n",
    "p=int(input(\"Enter your marks\"))\n",
    "if p>75:\n",
    "      print(\"Your Grade is = O\")\n",
    "elif 60<p>75:\n",
    "      print(\"Your Grade is = A\")\n",
    "elif 50<p<60:\n",
    "      print(\"Your Grade is = B\")\n",
    "elif 35<p<50:\n",
    "      print(\"Your Grade is = C\")\n",
    "else:\n",
    "      print(\"Your Grade is = (fail)\")"
   ]
  },
  {
   "cell_type": "code",
   "execution_count": 17,
   "id": "6a17af0c-02d2-48b4-bef4-795b151987ab",
   "metadata": {},
   "outputs": [
    {
     "name": "stdin",
     "output_type": "stream",
     "text": [
      "enter number 7\n"
     ]
    },
    {
     "name": "stdout",
     "output_type": "stream",
     "text": [
      "Not divisible by 2 or 3\n"
     ]
    }
   ],
   "source": [
    "#2). n is divisible by 2 and 3 n=7\n",
    "n=int(input(\"enter number\"))\n",
    "if n % 2 == 0 and n % 3 == 0:\n",
    "    print(\"Divisible by both 2 and 3\")\n",
    "elif n % 2==0:\n",
    "    print(\"Divisible by 2, but not 3\")\n",
    "elif n % 3==0:\n",
    "    print(\"Divisible by 3 ,but not 2\")\n",
    "else:\n",
    "    print(\"Not divisible by 2 or 3\")"
   ]
  },
  {
   "cell_type": "code",
   "execution_count": 18,
   "id": "19ab1c31-e802-4744-8d63-ba11ca10dc08",
   "metadata": {},
   "outputs": [
    {
     "name": "stdin",
     "output_type": "stream",
     "text": [
      "enter number 26\n",
      "enter number 108\n"
     ]
    },
    {
     "name": "stdout",
     "output_type": "stream",
     "text": [
      "a is less than b\n"
     ]
    }
   ],
   "source": [
    "#3).a=26 , b=108\n",
    "a=int(input(\"enter number\"))\n",
    "b=int(input(\"enter number\"))\n",
    "if a<b:\n",
    "    print(\"a is less than b\")\n",
    "elif a==b:\n",
    "    print(\"a is equal to b\")\n",
    "else :\n",
    "    print(\"a is greater than b\")\n",
    "     "
   ]
  },
  {
   "cell_type": "code",
   "execution_count": 19,
   "id": "7e172a10-d9d9-4407-bda1-3cc2eedecb40",
   "metadata": {},
   "outputs": [
    {
     "name": "stdin",
     "output_type": "stream",
     "text": [
      "enter day monday\n"
     ]
    },
    {
     "name": "stdout",
     "output_type": "stream",
     "text": [
      "today is monday\n"
     ]
    }
   ],
   "source": [
    "#4).day=\"monday\"\n",
    "day=input(\"enter day\")\n",
    "if (day==\"monday\"):\n",
    "    print(\"today is monday\")\n",
    "elif (day==\"tuesday\"):\n",
    "    print(\"today is tuesday\")\n",
    "elif (day==\"wendesday\"):\n",
    "    print(\"today is wendesday\")\n",
    "elif (day==\"thursday\"):\n",
    "    print(\"today is thursday\")\n",
    "else:\n",
    "    print(\"today is holiday\")"
   ]
  },
  {
   "cell_type": "code",
   "execution_count": 19,
   "id": "4d68c577-92a9-48e7-93ee-99679a43899e",
   "metadata": {},
   "outputs": [
    {
     "name": "stdin",
     "output_type": "stream",
     "text": [
      "enter the number 7\n"
     ]
    },
    {
     "name": "stdout",
     "output_type": "stream",
     "text": [
      "positive\n"
     ]
    }
   ],
   "source": [
    "#5).number is positive\n",
    "number=int(input(\"enter the number\"))\n",
    "if number>=0:\n",
    "    print(\"positive\")\n",
    "elif number==0:\n",
    "    print(\"zero\")\n",
    "else:\n",
    "    print(\"negative\")"
   ]
  },
  {
   "cell_type": "code",
   "execution_count": 20,
   "id": "5a6eb618-5ceb-4b17-8784-819955b3eb6b",
   "metadata": {},
   "outputs": [
    {
     "name": "stdout",
     "output_type": "stream",
     "text": [
      "21\n",
      "23\n",
      "25\n",
      "27\n",
      "29\n",
      "31\n",
      "33\n",
      "35\n",
      "37\n",
      "39\n",
      "41\n",
      "43\n",
      "45\n",
      "47\n",
      "49\n",
      "51\n",
      "53\n",
      "55\n",
      "57\n",
      "59\n",
      "61\n",
      "63\n",
      "65\n",
      "67\n",
      "69\n",
      "71\n",
      "73\n",
      "75\n",
      "77\n",
      "79\n"
     ]
    }
   ],
   "source": [
    "#for loop\n",
    "#1).print odd value between 20 and 80\n",
    "for i in range(21,80,2):\n",
    "    print(i)\n",
    "    "
   ]
  },
  {
   "cell_type": "code",
   "execution_count": 21,
   "id": "75a7ebd0-dfc9-476b-9125-5e937cf96a6d",
   "metadata": {},
   "outputs": [
    {
     "name": "stdout",
     "output_type": "stream",
     "text": [
      "1\n",
      "2\n",
      "3\n",
      "4\n",
      "5\n",
      "6\n",
      "7\n",
      "8\n",
      "9\n",
      "10\n",
      "11\n",
      "12\n",
      "13\n",
      "14\n",
      "15\n",
      "16\n",
      "17\n",
      "18\n",
      "19\n",
      "20\n"
     ]
    }
   ],
   "source": [
    "#2).create a list of 1 to 20 using for loop\n",
    "for i in range(1,21,1):\n",
    "    print(i)"
   ]
  },
  {
   "cell_type": "code",
   "execution_count": 22,
   "id": "e4ef3cc2-173c-4850-950b-fba3a4a651e8",
   "metadata": {},
   "outputs": [
    {
     "name": "stdout",
     "output_type": "stream",
     "text": [
      "20\n",
      "19\n",
      "18\n",
      "17\n",
      "16\n",
      "15\n",
      "14\n",
      "13\n",
      "12\n",
      "11\n",
      "10\n",
      "9\n",
      "8\n",
      "7\n",
      "6\n",
      "5\n",
      "4\n",
      "3\n",
      "2\n",
      "1\n"
     ]
    }
   ],
   "source": [
    "#3).create a list of 20 to 1 using for loop\n",
    "for i in range (20,0,-1):\n",
    "    print(i)\n",
    "    i-=1"
   ]
  },
  {
   "cell_type": "code",
   "execution_count": 33,
   "id": "ea812982-7cf3-4708-b9a7-7dd8d6ecbfb6",
   "metadata": {},
   "outputs": [
    {
     "name": "stdout",
     "output_type": "stream",
     "text": [
      "21       9261\n",
      "23       12167\n",
      "25       15625\n",
      "27       19683\n",
      "29       24389\n",
      "31       29791\n",
      "33       35937\n",
      "35       42875\n",
      "37       50653\n",
      "39       59319\n"
     ]
    }
   ],
   "source": [
    "#4).take a cube of odd values between 20 to 40\n",
    "for i in range(21,40,2):\n",
    "   print(i,\"     \",i*i*i)\n",
    "   "
   ]
  },
  {
   "cell_type": "code",
   "execution_count": 9,
   "id": "a97cead7-b3b0-494e-9e10-f87081a97551",
   "metadata": {},
   "outputs": [
    {
     "name": "stdout",
     "output_type": "stream",
     "text": [
      "my name is['a', 'b', 'c', 'd', 'e'],my age is20\n"
     ]
    }
   ],
   "source": [
    "#5).take 5 friends name list \n",
    "names = [\"a\",\"b\",\"c\",\"d\",\"e\"],\n",
    "ages = [20,21,23,25,24]\n",
    "for i in range (len(names)):\n",
    "    print(f\"my name is{names[i]},my age is{ages[i]}\")\n",
    "        "
   ]
  },
  {
   "cell_type": "code",
   "execution_count": 8,
   "id": "e15fcdb3-3180-47a5-bde7-eb49adb3bae8",
   "metadata": {},
   "outputs": [
    {
     "name": "stdout",
     "output_type": "stream",
     "text": [
      "<class 'list'>\n",
      "20\n",
      "67\n",
      "list after swapping: [67, 57, 84, 99, 20]\n"
     ]
    }
   ],
   "source": [
    "#solve using if and for loop and data type method\n",
    "\n",
    "#1).given a list, write a python code to swap first and last element of the list\n",
    "list=[20,57,84,99,67]\n",
    "print(type(list))\n",
    "print(list[0])\n",
    "print(list[-1])\n",
    "list[0],list[-1]=list[-1],list[0]\n",
    "print(\"list after swapping:\",list)"
   ]
  },
  {
   "cell_type": "code",
   "execution_count": 11,
   "id": "2e9471ba-7234-4c4b-8ac5-ae06856260cf",
   "metadata": {},
   "outputs": [
    {
     "name": "stdout",
     "output_type": "stream",
     "text": [
      "i a\n",
      "counter 0\n",
      "i r\n",
      "counter 1\n",
      "i a\n",
      "counter 2\n",
      "i d\n",
      "counter 3\n",
      "i h\n",
      "counter 4\n",
      "i y\n",
      "counter 5\n",
      "i a\n",
      "counter 6\n",
      "i  \n",
      "counter 7\n",
      "i m\n",
      "counter 8\n",
      "i e\n",
      "counter 9\n",
      "i t\n",
      "counter 10\n",
      "i e\n",
      "counter 11\n"
     ]
    }
   ],
   "source": [
    "#2).write code count length of string\n",
    "name=\"aradhya mete\"\n",
    "counter=0\n",
    "for i in name:\n",
    "    print(\"i\",i)\n",
    "    print(\"counter\",counter)\n",
    "    counter+=1"
   ]
  },
  {
   "cell_type": "code",
   "execution_count": 13,
   "id": "71d5db6d-5334-487d-977b-a2641f8adf8b",
   "metadata": {},
   "outputs": [
    {
     "ename": "IndentationError",
     "evalue": "unexpected indent (646363077.py, line 3)",
     "output_type": "error",
     "traceback": [
      "\u001b[1;36m  Cell \u001b[1;32mIn[13], line 3\u001b[1;36m\u001b[0m\n\u001b[1;33m    numbers=input(\"Numbers:\").split ()\u001b[0m\n\u001b[1;37m    ^\u001b[0m\n\u001b[1;31mIndentationError\u001b[0m\u001b[1;31m:\u001b[0m unexpected indent\n"
     ]
    }
   ],
   "source": [
    "#3).write sum of a only non negative integer\n",
    "#num=[1,4,-5,-20,10]\n",
    " numbers=input(\"Numbers:\").split ()\n",
    "positive_sum=sum(int(i) for i in numbers if int(i)>0)\n",
    "print(positive_sum)\n",
    "        \n",
    "\n"
   ]
  },
  {
   "cell_type": "code",
   "execution_count": 12,
   "id": "e21d24bc-48c5-4561-b2e5-ebd22145374d",
   "metadata": {},
   "outputs": [
    {
     "name": "stdin",
     "output_type": "stream",
     "text": [
      "enter the number: 10\n"
     ]
    },
    {
     "name": "stdout",
     "output_type": "stream",
     "text": [
      "factorial= 10\n",
      "factorial= 90\n",
      "factorial= 720\n",
      "factorial= 5040\n",
      "factorial= 30240\n",
      "factorial= 151200\n",
      "factorial= 604800\n",
      "factorial= 1814400\n",
      "factorial= 3628800\n",
      "factorial= 3628800\n"
     ]
    }
   ],
   "source": [
    "#4).write code of factorial,\n",
    "i=int(input(\"enter the number:\"))\n",
    "fac=1\n",
    "while(i>0):\n",
    "    fac=fac*i\n",
    "    i=i-1\n",
    "    print(\"factorial=\",fac)"
   ]
  },
  {
   "cell_type": "code",
   "execution_count": 53,
   "id": "09d411c8-5574-417c-a90c-f0468993ab07",
   "metadata": {},
   "outputs": [
    {
     "name": "stdout",
     "output_type": "stream",
     "text": [
      "1\n",
      "3\n",
      "5\n",
      "7\n",
      "9\n",
      "11\n",
      "13\n",
      "15\n",
      "17\n",
      "19\n"
     ]
    }
   ],
   "source": [
    "#While loop\n",
    "#1).odd even using while loop\n",
    "i=1\n",
    "while i<=20:\n",
    "    print(i)\n",
    "    i += 2"
   ]
  },
  {
   "cell_type": "code",
   "execution_count": 56,
   "id": "b26d59a4-47a7-4509-8fd5-8103ff091a55",
   "metadata": {},
   "outputs": [
    {
     "name": "stdout",
     "output_type": "stream",
     "text": [
      "2\n",
      "4\n",
      "6\n",
      "8\n",
      "10\n",
      "12\n",
      "14\n",
      "16\n",
      "18\n",
      "20\n",
      "22\n",
      "24\n",
      "26\n",
      "28\n",
      "30\n"
     ]
    }
   ],
   "source": [
    "i=2\n",
    "while i<=30:\n",
    "    print(i)\n",
    "    i+=2"
   ]
  },
  {
   "cell_type": "code",
   "execution_count": 1,
   "id": "2461a6a5-3063-4169-b764-17b114cd02ec",
   "metadata": {},
   "outputs": [
    {
     "name": "stdin",
     "output_type": "stream",
     "text": [
      "enter a number: 5\n"
     ]
    },
    {
     "name": "stdout",
     "output_type": "stream",
     "text": [
      "*\n",
      "**\n",
      "***\n",
      "****\n",
      "*****\n"
     ]
    }
   ],
   "source": [
    "#2).using while\n",
    "\n",
    "n=int(input(\"enter a number:\"))\n",
    "i=1\n",
    "while(i<=n):\n",
    "    print(i*\"*\")\n",
    "    i=i+1\n",
    "    \n",
    "    "
   ]
  },
  {
   "cell_type": "code",
   "execution_count": 5,
   "id": "b6a0bcdc-0f31-41fd-8ddd-b653f201bcea",
   "metadata": {},
   "outputs": [
    {
     "name": "stdout",
     "output_type": "stream",
     "text": [
      "1\n",
      "2\n",
      "3\n",
      "4\n",
      "5\n",
      "6\n",
      "7\n",
      "8\n",
      "9\n",
      "10\n",
      "11\n",
      "12\n",
      "13\n",
      "14\n",
      "15\n",
      "16\n",
      "17\n",
      "18\n",
      "19\n",
      "20\n"
     ]
    }
   ],
   "source": [
    "#3).creat list 1_20 number list using while loop\n",
    "i=1\n",
    "while i<=20:\n",
    "    print(i)\n",
    "    i=i+1"
   ]
  },
  {
   "cell_type": "code",
   "execution_count": 1,
   "id": "ee80540e-b462-4b03-8895-052958d4ce88",
   "metadata": {},
   "outputs": [
    {
     "name": "stdout",
     "output_type": "stream",
     "text": [
      "20\n",
      "19\n",
      "18\n",
      "17\n",
      "16\n",
      "15\n",
      "14\n",
      "13\n",
      "12\n",
      "11\n",
      "10\n",
      "9\n",
      "8\n",
      "7\n",
      "6\n",
      "5\n",
      "4\n",
      "3\n",
      "2\n",
      "1\n"
     ]
    }
   ],
   "source": [
    "#4).creat list 20-1 using while loop =>\n",
    "i=20\n",
    "while i>=1:\n",
    "    print(i)\n",
    "    i-=1"
   ]
  },
  {
   "cell_type": "code",
   "execution_count": 2,
   "id": "9755acf4-fa03-4eef-9536-e8da09f11dbd",
   "metadata": {},
   "outputs": [],
   "source": [
    "#5).try with one any eg.break,contnue, pass contol statement\n",
    "#a).break\n",
    "list=range(8)\n",
    "for i in list:\n",
    "    if(i==4):\n",
    "        break\n",
    "        print(i)\n",
    "        "
   ]
  },
  {
   "cell_type": "code",
   "execution_count": 3,
   "id": "982f0018-9158-41e1-8cee-4fdb1b4ed1ac",
   "metadata": {},
   "outputs": [],
   "source": [
    "#b).continue\n",
    "list=range(8)\n",
    "for i in list:\n",
    "     if(i==4):\n",
    "         continue\n",
    "         print(i)\n",
    "        "
   ]
  },
  {
   "cell_type": "code",
   "execution_count": 35,
   "id": "202014dc-b36a-4a5e-b8e7-6020910b28d2",
   "metadata": {},
   "outputs": [
    {
     "name": "stdout",
     "output_type": "stream",
     "text": [
      "some useful work\n",
      "some useful work\n",
      "some useful work\n",
      "some useful work\n",
      "some useful work\n"
     ]
    }
   ],
   "source": [
    "#c).pass control statement\n",
    "for i in range (5):\n",
    "    pass\n",
    "    print(\"some useful work\")"
   ]
  },
  {
   "cell_type": "code",
   "execution_count": null,
   "id": "dd4eb5f9-c423-4a2c-811c-9e9a8bc334cd",
   "metadata": {},
   "outputs": [],
   "source": []
  },
  {
   "cell_type": "code",
   "execution_count": null,
   "id": "5f997ea5-bc34-4290-839d-b50b15e0d40a",
   "metadata": {},
   "outputs": [],
   "source": []
  },
  {
   "cell_type": "code",
   "execution_count": null,
   "id": "1b6ca9b2-91de-4bf8-b6ec-8b4566d84406",
   "metadata": {},
   "outputs": [],
   "source": []
  },
  {
   "cell_type": "code",
   "execution_count": null,
   "id": "2792b298-ea2d-40ad-aa77-56cd97c0e82b",
   "metadata": {},
   "outputs": [],
   "source": []
  },
  {
   "cell_type": "code",
   "execution_count": null,
   "id": "f33e6873-7add-4dcc-b6dc-fc0120dbefa1",
   "metadata": {},
   "outputs": [],
   "source": []
  },
  {
   "cell_type": "code",
   "execution_count": null,
   "id": "3701ab59-dae4-43bf-899d-a2cf816873ea",
   "metadata": {},
   "outputs": [],
   "source": []
  },
  {
   "cell_type": "code",
   "execution_count": null,
   "id": "31bc905b-1652-47da-9639-109b5c0cdfc2",
   "metadata": {},
   "outputs": [],
   "source": []
  },
  {
   "cell_type": "code",
   "execution_count": null,
   "id": "a668f644-a718-43b0-9450-3532f5c5fead",
   "metadata": {},
   "outputs": [],
   "source": []
  },
  {
   "cell_type": "code",
   "execution_count": null,
   "id": "6e4c38dd-098b-4967-a8c2-53d056a53870",
   "metadata": {},
   "outputs": [],
   "source": []
  }
 ],
 "metadata": {
  "kernelspec": {
   "display_name": "Python 3 (ipykernel)",
   "language": "python",
   "name": "python3"
  },
  "language_info": {
   "codemirror_mode": {
    "name": "ipython",
    "version": 3
   },
   "file_extension": ".py",
   "mimetype": "text/x-python",
   "name": "python",
   "nbconvert_exporter": "python",
   "pygments_lexer": "ipython3",
   "version": "3.12.7"
  }
 },
 "nbformat": 4,
 "nbformat_minor": 5
}
